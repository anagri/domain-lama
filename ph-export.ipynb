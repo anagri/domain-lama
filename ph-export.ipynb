{
 "cells": [
  {
   "cell_type": "markdown",
   "id": "d5b57405",
   "metadata": {},
   "source": [
    "## Export JSON to CSV file\n",
    "\n",
    "- read json files using utils/read_json method\n",
    "- export to csv\n",
    "- do pre/post processing of data after import, before export, in the utils methods read_json"
   ]
  },
  {
   "cell_type": "code",
   "execution_count": 1,
   "id": "e2ec2289",
   "metadata": {},
   "outputs": [],
   "source": [
    "import os\n",
    "import sys\n",
    "sys.path.append(os.getcwd())\n",
    "from loadutils import load_json"
   ]
  },
  {
   "cell_type": "code",
   "execution_count": 2,
   "id": "09c9d785",
   "metadata": {},
   "outputs": [],
   "source": [
    "df = load_json()"
   ]
  },
  {
   "cell_type": "code",
   "execution_count": 3,
   "id": "288ef391",
   "metadata": {},
   "outputs": [
    {
     "data": {
      "text/plain": [
       "219594"
      ]
     },
     "execution_count": 3,
     "metadata": {},
     "output_type": "execute_result"
    }
   ],
   "source": [
    "len(df)"
   ]
  },
  {
   "cell_type": "code",
   "execution_count": 4,
   "id": "809fd3aa",
   "metadata": {},
   "outputs": [
    {
     "data": {
      "text/plain": [
       "Index(['id', 'name', 'description', 'commentsCount', 'reviewsCount',\n",
       "       'reviewsRating', 'slug', 'tagline', 'url', 'userId', 'votesCount',\n",
       "       'website', 'topic_list', 'comment_list', 'filename', 'created_at',\n",
       "       'featured_at'],\n",
       "      dtype='object')"
      ]
     },
     "execution_count": 4,
     "metadata": {},
     "output_type": "execute_result"
    }
   ],
   "source": [
    "df.columns"
   ]
  },
  {
   "cell_type": "code",
   "execution_count": 5,
   "id": "9e62e54f",
   "metadata": {},
   "outputs": [
    {
     "data": {
      "text/plain": [
       "id                             int32\n",
       "name                          object\n",
       "description                   object\n",
       "commentsCount                  int32\n",
       "reviewsCount                   int32\n",
       "reviewsRating                float32\n",
       "slug                          object\n",
       "tagline                       object\n",
       "url                           object\n",
       "userId                         int32\n",
       "votesCount                     int32\n",
       "website                       object\n",
       "topic_list                    object\n",
       "comment_list                  object\n",
       "filename                      object\n",
       "created_at       datetime64[ns, UTC]\n",
       "featured_at      datetime64[ns, UTC]\n",
       "dtype: object"
      ]
     },
     "execution_count": 5,
     "metadata": {},
     "output_type": "execute_result"
    }
   ],
   "source": [
    "df.dtypes"
   ]
  },
  {
   "cell_type": "code",
   "execution_count": 4,
   "id": "14dedceb",
   "metadata": {},
   "outputs": [],
   "source": [
    "csv_file = '220k.csv'"
   ]
  },
  {
   "cell_type": "code",
   "execution_count": 5,
   "id": "469ee4d5",
   "metadata": {},
   "outputs": [],
   "source": [
    "df.to_csv(csv_file, index=False)"
   ]
  },
  {
   "cell_type": "code",
   "execution_count": 6,
   "id": "8b084d22",
   "metadata": {},
   "outputs": [],
   "source": [
    "from loadutils import load_csv"
   ]
  },
  {
   "cell_type": "code",
   "execution_count": 7,
   "id": "3309fcee",
   "metadata": {},
   "outputs": [],
   "source": [
    "df = load_csv(csv_file)"
   ]
  },
  {
   "cell_type": "code",
   "execution_count": 8,
   "id": "560eacf2",
   "metadata": {},
   "outputs": [
    {
     "data": {
      "text/plain": [
       "219594"
      ]
     },
     "execution_count": 8,
     "metadata": {},
     "output_type": "execute_result"
    }
   ],
   "source": [
    "len(df)"
   ]
  },
  {
   "cell_type": "code",
   "execution_count": 11,
   "id": "d679d8d7",
   "metadata": {},
   "outputs": [
    {
     "data": {
      "text/plain": [
       "Index(['id', 'name', 'description', 'commentsCount', 'reviewsCount',\n",
       "       'reviewsRating', 'slug', 'tagline', 'url', 'userId', 'votesCount',\n",
       "       'website', 'topic_list', 'comment_list', 'filename', 'created_at',\n",
       "       'featured_at'],\n",
       "      dtype='object')"
      ]
     },
     "execution_count": 11,
     "metadata": {},
     "output_type": "execute_result"
    }
   ],
   "source": [
    "df.columns"
   ]
  },
  {
   "cell_type": "code",
   "execution_count": 12,
   "id": "253cdaf1",
   "metadata": {},
   "outputs": [
    {
     "data": {
      "text/plain": [
       "id                             int32\n",
       "name                          object\n",
       "description                   object\n",
       "commentsCount                  int32\n",
       "reviewsCount                   int32\n",
       "reviewsRating                float32\n",
       "slug                          object\n",
       "tagline                       object\n",
       "url                           object\n",
       "userId                         int32\n",
       "votesCount                     int32\n",
       "website                       object\n",
       "topic_list                    object\n",
       "comment_list                  object\n",
       "filename                      object\n",
       "created_at       datetime64[ns, UTC]\n",
       "featured_at      datetime64[ns, UTC]\n",
       "dtype: object"
      ]
     },
     "execution_count": 12,
     "metadata": {},
     "output_type": "execute_result"
    }
   ],
   "source": [
    "df.dtypes"
   ]
  },
  {
   "cell_type": "code",
   "execution_count": 9,
   "id": "fb1f5691",
   "metadata": {},
   "outputs": [
    {
     "data": {
      "text/html": [
       "<div>\n",
       "<style scoped>\n",
       "    .dataframe tbody tr th:only-of-type {\n",
       "        vertical-align: middle;\n",
       "    }\n",
       "\n",
       "    .dataframe tbody tr th {\n",
       "        vertical-align: top;\n",
       "    }\n",
       "\n",
       "    .dataframe thead th {\n",
       "        text-align: right;\n",
       "    }\n",
       "</style>\n",
       "<table border=\"1\" class=\"dataframe\">\n",
       "  <thead>\n",
       "    <tr style=\"text-align: right;\">\n",
       "      <th></th>\n",
       "      <th>id</th>\n",
       "      <th>name</th>\n",
       "      <th>description</th>\n",
       "      <th>commentsCount</th>\n",
       "      <th>reviewsCount</th>\n",
       "      <th>reviewsRating</th>\n",
       "      <th>slug</th>\n",
       "      <th>tagline</th>\n",
       "      <th>url</th>\n",
       "      <th>userId</th>\n",
       "      <th>votesCount</th>\n",
       "      <th>website</th>\n",
       "      <th>topic_list</th>\n",
       "      <th>comment_list</th>\n",
       "      <th>filename</th>\n",
       "      <th>created_at</th>\n",
       "      <th>featured_at</th>\n",
       "    </tr>\n",
       "  </thead>\n",
       "  <tbody>\n",
       "    <tr>\n",
       "      <th>0</th>\n",
       "      <td>400056</td>\n",
       "      <td>Tripover</td>\n",
       "      <td>New social media platform for globetrotting tr...</td>\n",
       "      <td>1</td>\n",
       "      <td>0</td>\n",
       "      <td>0.0</td>\n",
       "      <td>tripover</td>\n",
       "      <td>Travel, Social Media, Make Friends, Travel Info</td>\n",
       "      <td>https://www.producthunt.com/posts/tripover?utm...</td>\n",
       "      <td>5666726</td>\n",
       "      <td>1</td>\n",
       "      <td>https://www.producthunt.com/r/E23ZOGQD47XRXB?u...</td>\n",
       "      <td>[Messaging, Social Media, Travel, Vacation]</td>\n",
       "      <td>[In today's digital age, social media has beco...</td>\n",
       "      <td>response-3-2406.json</td>\n",
       "      <td>2023-06-23 23:44:37+00:00</td>\n",
       "      <td>2023-06-23 23:44:37+00:00</td>\n",
       "    </tr>\n",
       "    <tr>\n",
       "      <th>1</th>\n",
       "      <td>401214</td>\n",
       "      <td>CV Spruce</td>\n",
       "      <td>Save hours each month by letting the power of ...</td>\n",
       "      <td>2</td>\n",
       "      <td>0</td>\n",
       "      <td>0.0</td>\n",
       "      <td>cv-spruce</td>\n",
       "      <td>AI-Assisted CV Formatting for Recruiters</td>\n",
       "      <td>https://www.producthunt.com/posts/cv-spruce?ut...</td>\n",
       "      <td>3174076</td>\n",
       "      <td>6</td>\n",
       "      <td>https://www.producthunt.com/r/CJVLGELLCYNEPB?u...</td>\n",
       "      <td>[Hiring, SaaS, Human Resources]</td>\n",
       "      <td>[A perfect example of how we make AI work for ...</td>\n",
       "      <td>response-3-2406.json</td>\n",
       "      <td>2023-06-23 17:20:27+00:00</td>\n",
       "      <td>2023-06-23 17:20:27+00:00</td>\n",
       "    </tr>\n",
       "    <tr>\n",
       "      <th>2</th>\n",
       "      <td>401142</td>\n",
       "      <td>DailyBreathing</td>\n",
       "      <td>DailyBreathing provides the quick and simple s...</td>\n",
       "      <td>29</td>\n",
       "      <td>0</td>\n",
       "      <td>0.0</td>\n",
       "      <td>dailybreathing</td>\n",
       "      <td>Breathwork</td>\n",
       "      <td>https://www.producthunt.com/posts/dailybreathi...</td>\n",
       "      <td>5718336</td>\n",
       "      <td>47</td>\n",
       "      <td>https://www.producthunt.com/r/J3LCJYEPHGR3Q5?u...</td>\n",
       "      <td>[Android, iOS, Health &amp; Fitness, Productivity,...</td>\n",
       "      <td>[This app is working smoothly and the best par...</td>\n",
       "      <td>response-1-2406.json</td>\n",
       "      <td>2023-06-23 15:46:19+00:00</td>\n",
       "      <td>2023-06-23 15:46:19+00:00</td>\n",
       "    </tr>\n",
       "    <tr>\n",
       "      <th>3</th>\n",
       "      <td>401224</td>\n",
       "      <td>Talk To Your Ex</td>\n",
       "      <td>Import your ex's chats into our AI so you can ...</td>\n",
       "      <td>9</td>\n",
       "      <td>0</td>\n",
       "      <td>0.0</td>\n",
       "      <td>talk-to-your-ex</td>\n",
       "      <td>Import your ex's chats into AI so you can stil...</td>\n",
       "      <td>https://www.producthunt.com/posts/talk-to-your...</td>\n",
       "      <td>2217442</td>\n",
       "      <td>17</td>\n",
       "      <td>https://www.producthunt.com/r/ZQTFJ6UBDJGQVS?u...</td>\n",
       "      <td>[Messaging, Dating, Artificial Intelligence]</td>\n",
       "      <td>[What the hell? 😂😂😂, This sounds like one of t...</td>\n",
       "      <td>response-2-2406.json</td>\n",
       "      <td>2023-06-23 15:45:24+00:00</td>\n",
       "      <td>2023-06-23 15:45:24+00:00</td>\n",
       "    </tr>\n",
       "    <tr>\n",
       "      <th>4</th>\n",
       "      <td>401178</td>\n",
       "      <td>Creator Discovery Tool by CrowdPad</td>\n",
       "      <td>Revolutionize your creator search with our too...</td>\n",
       "      <td>10</td>\n",
       "      <td>0</td>\n",
       "      <td>0.0</td>\n",
       "      <td>creator-discovery-tool-by-crowdpad</td>\n",
       "      <td>Discover, analyse, and connect with the right ...</td>\n",
       "      <td>https://www.producthunt.com/posts/creator-disc...</td>\n",
       "      <td>5123011</td>\n",
       "      <td>32</td>\n",
       "      <td>https://www.producthunt.com/r/6OLB37XHVYRRCD?u...</td>\n",
       "      <td>[Growth Hacking, Advertising, Influencer marke...</td>\n",
       "      <td>[Super excited to share this with all of you m...</td>\n",
       "      <td>response-1-2406.json</td>\n",
       "      <td>2023-06-23 14:56:44+00:00</td>\n",
       "      <td>2023-06-23 14:56:44+00:00</td>\n",
       "    </tr>\n",
       "  </tbody>\n",
       "</table>\n",
       "</div>"
      ],
      "text/plain": [
       "       id                                name  \\\n",
       "0  400056                            Tripover   \n",
       "1  401214                           CV Spruce   \n",
       "2  401142                      DailyBreathing   \n",
       "3  401224                     Talk To Your Ex   \n",
       "4  401178  Creator Discovery Tool by CrowdPad   \n",
       "\n",
       "                                         description  commentsCount  \\\n",
       "0  New social media platform for globetrotting tr...              1   \n",
       "1  Save hours each month by letting the power of ...              2   \n",
       "2  DailyBreathing provides the quick and simple s...             29   \n",
       "3  Import your ex's chats into our AI so you can ...              9   \n",
       "4  Revolutionize your creator search with our too...             10   \n",
       "\n",
       "   reviewsCount  reviewsRating                                slug  \\\n",
       "0             0            0.0                            tripover   \n",
       "1             0            0.0                           cv-spruce   \n",
       "2             0            0.0                      dailybreathing   \n",
       "3             0            0.0                     talk-to-your-ex   \n",
       "4             0            0.0  creator-discovery-tool-by-crowdpad   \n",
       "\n",
       "                                             tagline  \\\n",
       "0    Travel, Social Media, Make Friends, Travel Info   \n",
       "1           AI-Assisted CV Formatting for Recruiters   \n",
       "2                                         Breathwork   \n",
       "3  Import your ex's chats into AI so you can stil...   \n",
       "4  Discover, analyse, and connect with the right ...   \n",
       "\n",
       "                                                 url   userId  votesCount  \\\n",
       "0  https://www.producthunt.com/posts/tripover?utm...  5666726           1   \n",
       "1  https://www.producthunt.com/posts/cv-spruce?ut...  3174076           6   \n",
       "2  https://www.producthunt.com/posts/dailybreathi...  5718336          47   \n",
       "3  https://www.producthunt.com/posts/talk-to-your...  2217442          17   \n",
       "4  https://www.producthunt.com/posts/creator-disc...  5123011          32   \n",
       "\n",
       "                                             website  \\\n",
       "0  https://www.producthunt.com/r/E23ZOGQD47XRXB?u...   \n",
       "1  https://www.producthunt.com/r/CJVLGELLCYNEPB?u...   \n",
       "2  https://www.producthunt.com/r/J3LCJYEPHGR3Q5?u...   \n",
       "3  https://www.producthunt.com/r/ZQTFJ6UBDJGQVS?u...   \n",
       "4  https://www.producthunt.com/r/6OLB37XHVYRRCD?u...   \n",
       "\n",
       "                                          topic_list  \\\n",
       "0        [Messaging, Social Media, Travel, Vacation]   \n",
       "1                    [Hiring, SaaS, Human Resources]   \n",
       "2  [Android, iOS, Health & Fitness, Productivity,...   \n",
       "3       [Messaging, Dating, Artificial Intelligence]   \n",
       "4  [Growth Hacking, Advertising, Influencer marke...   \n",
       "\n",
       "                                        comment_list              filename  \\\n",
       "0  [In today's digital age, social media has beco...  response-3-2406.json   \n",
       "1  [A perfect example of how we make AI work for ...  response-3-2406.json   \n",
       "2  [This app is working smoothly and the best par...  response-1-2406.json   \n",
       "3  [What the hell? 😂😂😂, This sounds like one of t...  response-2-2406.json   \n",
       "4  [Super excited to share this with all of you m...  response-1-2406.json   \n",
       "\n",
       "                 created_at               featured_at  \n",
       "0 2023-06-23 23:44:37+00:00 2023-06-23 23:44:37+00:00  \n",
       "1 2023-06-23 17:20:27+00:00 2023-06-23 17:20:27+00:00  \n",
       "2 2023-06-23 15:46:19+00:00 2023-06-23 15:46:19+00:00  \n",
       "3 2023-06-23 15:45:24+00:00 2023-06-23 15:45:24+00:00  \n",
       "4 2023-06-23 14:56:44+00:00 2023-06-23 14:56:44+00:00  "
      ]
     },
     "execution_count": 9,
     "metadata": {},
     "output_type": "execute_result"
    }
   ],
   "source": [
    "df.head()"
   ]
  },
  {
   "cell_type": "code",
   "execution_count": null,
   "id": "cc5aed5a",
   "metadata": {},
   "outputs": [],
   "source": []
  }
 ],
 "metadata": {
  "kernelspec": {
   "display_name": "basic-ds",
   "language": "python",
   "name": "basic-ds"
  },
  "language_info": {
   "codemirror_mode": {
    "name": "ipython",
    "version": 3
   },
   "file_extension": ".py",
   "mimetype": "text/x-python",
   "name": "python",
   "nbconvert_exporter": "python",
   "pygments_lexer": "ipython3",
   "version": "3.9.4"
  }
 },
 "nbformat": 4,
 "nbformat_minor": 5
}
