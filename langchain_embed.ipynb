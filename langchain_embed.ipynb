{
 "cells": [
  {
   "cell_type": "code",
   "execution_count": 1,
   "metadata": {},
   "outputs": [
    {
     "name": "stderr",
     "output_type": "stream",
     "text": [
      "/Users/user36/.pyenv/versions/3.9.4/envs/basic-ds/lib/python3.9/site-packages/pinecone/index.py:4: TqdmExperimentalWarning: Using `tqdm.autonotebook.tqdm` in notebook mode. Use `tqdm.tqdm` instead to force console mode (e.g. in jupyter console)\n",
      "  from tqdm.autonotebook import tqdm\n"
     ]
    }
   ],
   "source": [
    "from langchain.embeddings.openai import OpenAIEmbeddings\n",
    "import pinecone"
   ]
  },
  {
   "cell_type": "code",
   "execution_count": 2,
   "metadata": {},
   "outputs": [],
   "source": [
    "from getpass import getpass"
   ]
  },
  {
   "cell_type": "code",
   "execution_count": 3,
   "metadata": {},
   "outputs": [],
   "source": [
    "OPENAI_API_KEY = getpass(\"OpenAI API Key: \") \n",
    "PINECONE_API_KEY = getpass(\"Pinecone API Key: \")\n"
   ]
  },
  {
   "cell_type": "code",
   "execution_count": 4,
   "metadata": {},
   "outputs": [],
   "source": [
    "PINECONE_API_ENV = 'us-west4-gcp-free'"
   ]
  },
  {
   "cell_type": "code",
   "execution_count": 5,
   "metadata": {},
   "outputs": [],
   "source": [
    "embeddings = OpenAIEmbeddings(openai_api_key=OPENAI_API_KEY)"
   ]
  },
  {
   "cell_type": "code",
   "execution_count": 6,
   "metadata": {},
   "outputs": [],
   "source": [
    "import sys, os\n",
    "sys.path.append(os.getcwd())\n",
    "\n",
    "from loadutils import load_training\n"
   ]
  },
  {
   "cell_type": "code",
   "execution_count": 7,
   "metadata": {},
   "outputs": [],
   "source": [
    "df = load_training()"
   ]
  },
  {
   "cell_type": "code",
   "execution_count": 8,
   "metadata": {},
   "outputs": [],
   "source": [
    "sample = df.sample(frac=1)"
   ]
  },
  {
   "cell_type": "code",
   "execution_count": 9,
   "metadata": {},
   "outputs": [
    {
     "data": {
      "text/plain": [
       "12503"
      ]
     },
     "execution_count": 9,
     "metadata": {},
     "output_type": "execute_result"
    }
   ],
   "source": [
    "len(sample)"
   ]
  },
  {
   "cell_type": "code",
   "execution_count": 10,
   "metadata": {},
   "outputs": [],
   "source": [
    "sample['input'] = sample['name'] + ', ' + sample['tagline'] + ', ' + sample['topics'].apply(lambda x: ','.join(x)) + ', ' + sample['host'] + ' , ' + sample['description']"
   ]
  },
  {
   "cell_type": "code",
   "execution_count": 11,
   "metadata": {},
   "outputs": [],
   "source": [
    "index_name = 'lamaidx'\n",
    "pinecone.init(api_key=PINECONE_API_KEY, environment=PINECONE_API_ENV) \n",
    "index = pinecone.Index(index_name)"
   ]
  },
  {
   "cell_type": "code",
   "execution_count": 12,
   "metadata": {},
   "outputs": [],
   "source": [
    "model = 'gpt-3.5-turbo'"
   ]
  },
  {
   "cell_type": "code",
   "execution_count": 13,
   "metadata": {},
   "outputs": [],
   "source": [
    "from langchain.text_splitter import TokenTextSplitter"
   ]
  },
  {
   "cell_type": "code",
   "execution_count": 14,
   "metadata": {},
   "outputs": [],
   "source": [
    "splitter = TokenTextSplitter(model_name=model, chunk_size=2000, chunk_overlap=0)"
   ]
  },
  {
   "cell_type": "code",
   "execution_count": 15,
   "metadata": {},
   "outputs": [],
   "source": [
    "from langchain.embeddings.openai import OpenAIEmbeddings\n",
    "\n",
    "embed = OpenAIEmbeddings(\n",
    "    model=model,\n",
    "    openai_api_key=OPENAI_API_KEY\n",
    ")"
   ]
  },
  {
   "cell_type": "code",
   "execution_count": 16,
   "metadata": {},
   "outputs": [],
   "source": [
    "from langchain.docstore.document import Document\n",
    "\n",
    "docs = [Document(page_content=row['input'], id=row.id, metadata={'id': row.id, 'name': row['name'], 'tagline': row.tagline, 'topics': row.topics, 'host': row.host}) for _, row in sample.iterrows()]"
   ]
  },
  {
   "cell_type": "code",
   "execution_count": 17,
   "metadata": {},
   "outputs": [
    {
     "data": {
      "text/plain": [
       "Document(page_content=\"How to launch like Harry's, Easily create a referral program with this handy tool 💪, Web App,Email Marketing,Marketing,Tech, harrysprelaunchreferral.com , How to launch like Harry's is a side project for people to build a Harry’s prelaunch referral program in 4 simple steps.\", metadata={'id': 104998, 'name': \"How to launch like Harry's\", 'tagline': 'Easily create a referral program with this handy tool 💪', 'topics': ['Web App', 'Email Marketing', 'Marketing', 'Tech'], 'host': 'harrysprelaunchreferral.com'})"
      ]
     },
     "execution_count": 17,
     "metadata": {},
     "output_type": "execute_result"
    }
   ],
   "source": [
    "docs[0]"
   ]
  },
  {
   "cell_type": "code",
   "execution_count": 36,
   "metadata": {},
   "outputs": [
    {
     "data": {
      "text/plain": [
       "{}"
      ]
     },
     "execution_count": 36,
     "metadata": {},
     "output_type": "execute_result"
    }
   ],
   "source": [
    "index.delete(ids=[], delete_all=True)"
   ]
  },
  {
   "cell_type": "code",
   "execution_count": 18,
   "metadata": {},
   "outputs": [
    {
     "data": {
      "text/plain": [
       "{'dimension': 1536,\n",
       " 'index_fullness': 0.1,\n",
       " 'namespaces': {'': {'vector_count': 12503}},\n",
       " 'total_vector_count': 12503}"
      ]
     },
     "execution_count": 18,
     "metadata": {},
     "output_type": "execute_result"
    }
   ],
   "source": [
    "index.describe_index_stats()"
   ]
  },
  {
   "cell_type": "code",
   "execution_count": 38,
   "metadata": {},
   "outputs": [
    {
     "data": {
      "application/vnd.jupyter.widget-view+json": {
       "model_id": "9374c0b719fc417e988fd02dc2b1b9d3",
       "version_major": 2,
       "version_minor": 0
      },
      "text/plain": [
       "  0%|          | 0/12503 [00:00<?, ?it/s]"
      ]
     },
     "metadata": {},
     "output_type": "display_data"
    }
   ],
   "source": [
    "from tqdm.auto import tqdm\n",
    "from uuid import uuid4\n",
    "\n",
    "batch_limit = 100\n",
    "\n",
    "texts = []\n",
    "metadatas = []\n",
    "\n",
    "for i, record in enumerate(tqdm(docs)):\n",
    "    # first get metadata fields for this record\n",
    "    metadata = record.metadata\n",
    "    # now we create chunks from the record text\n",
    "    record_texts = splitter.split_text(record.page_content)\n",
    "    # create individual metadata dicts for each chunk\n",
    "    record_metadatas = [{\n",
    "        \"chunk\": j, \"text\": text, **metadata\n",
    "    } for j, text in enumerate(record_texts)]\n",
    "    # append these to current batches\n",
    "    texts.extend(record_texts)\n",
    "    metadatas.extend(record_metadatas)\n",
    "    # if we have reached the batch_limit we can add texts\n",
    "    if len(texts) >= batch_limit:\n",
    "        ids = [str(uuid4()) for _ in range(len(texts))]\n",
    "        embeds = embed.embed_documents(texts)\n",
    "        index.upsert(vectors=zip(ids, embeds, metadatas))\n",
    "        texts = []\n",
    "        metadatas = []\n",
    "\n",
    "if len(texts) > 0:\n",
    "    ids = [str(uuid4()) for _ in range(len(texts))]\n",
    "    embeds = embed.embed_documents(texts)\n",
    "    index.upsert(vectors=zip(ids, embeds, metadatas))"
   ]
  },
  {
   "cell_type": "code",
   "execution_count": 39,
   "metadata": {},
   "outputs": [
    {
     "data": {
      "text/plain": [
       "{'dimension': 1536,\n",
       " 'index_fullness': 0.1,\n",
       " 'namespaces': {'': {'vector_count': 12503}},\n",
       " 'total_vector_count': 12503}"
      ]
     },
     "execution_count": 39,
     "metadata": {},
     "output_type": "execute_result"
    }
   ],
   "source": [
    "index.describe_index_stats()"
   ]
  },
  {
   "cell_type": "code",
   "execution_count": 19,
   "metadata": {},
   "outputs": [],
   "source": [
    "from langchain.vectorstores import Pinecone\n",
    "\n",
    "vectorstore = Pinecone(\n",
    "    index, embed.embed_query, \"text\"\n",
    ")"
   ]
  },
  {
   "cell_type": "code",
   "execution_count": 20,
   "metadata": {},
   "outputs": [],
   "source": [
    "query = \"on demand kid photoshoot\"\n",
    "\n",
    "r = vectorstore.similarity_search(\n",
    "    query,  # our search query\n",
    "    k=5  # return 3 most relevant docs\n",
    ")"
   ]
  },
  {
   "cell_type": "code",
   "execution_count": 21,
   "metadata": {},
   "outputs": [
    {
     "data": {
      "text/plain": [
       "[Document(page_content='Totspot, Shop and sell kids fashion from your smartphone, Tech, itunes.apple.com , ', metadata={'chunk': 0.0, 'host': 'itunes.apple.com', 'id': 3098.0, 'name': 'Totspot', 'tagline': 'Shop and sell kids fashion from your smartphone', 'topics': ['Tech']}),\n",
       " Document(page_content='Doctor on Demand, On demand video chat with licensed doctors, Tech, doctorondemand.com , ', metadata={'chunk': 0.0, 'host': 'doctorondemand.com', 'id': 186.0, 'name': 'Doctor on Demand', 'tagline': 'On demand video chat with licensed doctors', 'topics': ['Tech']}),\n",
       " Document(page_content='Take it, Print your best photos for free (really). Shipped worldwide., iOS,Photography,Tech, takeitapp.co , ', metadata={'chunk': 0.0, 'host': 'takeitapp.co', 'id': 27679.0, 'name': 'Take it', 'tagline': 'Print your best photos for free (really). Shipped worldwide.', 'topics': ['iOS', 'Photography', 'Tech']}),\n",
       " Document(page_content='Fiverr Faces, Create jaw-dropping portraits from your selfies, Photography,Tech, faces.fiverr.com , ', metadata={'chunk': 0.0, 'host': 'faces.fiverr.com', 'id': 18277.0, 'name': 'Fiverr Faces', 'tagline': 'Create jaw-dropping portraits from your selfies', 'topics': ['Photography', 'Tech']}),\n",
       " Document(page_content='WhiteAlbum, A disposable camera on your phone, printed & shipped to you, Photography,Tech, whitealbumapp.com , ', metadata={'chunk': 0.0, 'host': 'whitealbumapp.com', 'id': 13236.0, 'name': 'WhiteAlbum', 'tagline': 'A disposable camera on your phone, printed & shipped to you', 'topics': ['Photography', 'Tech']})]"
      ]
     },
     "execution_count": 21,
     "metadata": {},
     "output_type": "execute_result"
    }
   ],
   "source": [
    "r"
   ]
  },
  {
   "cell_type": "code",
   "execution_count": 22,
   "metadata": {},
   "outputs": [],
   "source": [
    "exs = []\n",
    "for row in r:\n",
    "    topics = '\\n'.join(row.metadata['topics'])\n",
    "    exs.append(f\"product name: {row.metadata['name']}\\ntagline: {row.metadata['tagline']}\\ncategories: {topics}\\ndomain: {row.metadata['host']}\")"
   ]
  },
  {
   "cell_type": "code",
   "execution_count": 23,
   "metadata": {},
   "outputs": [
    {
     "data": {
      "text/plain": [
       "5"
      ]
     },
     "execution_count": 23,
     "metadata": {},
     "output_type": "execute_result"
    }
   ],
   "source": [
    "len(exs)"
   ]
  },
  {
   "cell_type": "code",
   "execution_count": 24,
   "metadata": {},
   "outputs": [],
   "source": [
    "import openai\n",
    "\n",
    "openai.api_key = OPENAI_API_KEY\n",
    "examples = \"\\n\".join(exs)\n",
    "response = openai.ChatCompletion.create(\n",
    "  model=model,\n",
    "  messages=[{\"role\": \"system\", \"content\": \"You are a helpful assistant that suggests product names, taglines, categories and domain names to help list on product hunt\"}, \n",
    "            {\"role\": \"user\", \"content\": f\"here are few of the most popular listings on product hunt for inspiration:\\n{exs}\"},\n",
    "            {\"role\": \"user\", \"content\": f\"generate 5 listing options for idea '{query}'\"}],\n",
    "  temperature=0.6\n",
    ")"
   ]
  },
  {
   "cell_type": "code",
   "execution_count": 25,
   "metadata": {},
   "outputs": [
    {
     "name": "stdout",
     "output_type": "stream",
     "text": [
      "1. Product Name: KidSnap\n",
      "Tagline: Capture the perfect moment with on-demand kids photoshoots\n",
      "Categories: Photography, Parenting\n",
      "Domain: kidsnap.co\n",
      "\n",
      "2. Product Name: SnapSquad\n",
      "Tagline: Professional kids photography at your fingertips\n",
      "Categories: Photography, Parenting\n",
      "Domain: snapsquad.com\n",
      "\n",
      "3. Product Name: Kiddo Clicks\n",
      "Tagline: Quality kids photoshoots on demand\n",
      "Categories: Photography, Parenting\n",
      "Domain: kiddoclicks.com\n",
      "\n",
      "4. Product Name: ChildProof\n",
      "Tagline: On-demand photoshoots for your little ones\n",
      "Categories: Photography, Parenting\n",
      "Domain: childproofapp.com\n",
      "\n",
      "5. Product Name: TinyTogs\n",
      "Tagline: On demand, professional photoshoots for your kids\n",
      "Categories: Photography, Parenting\n",
      "Domain: tinytogs.co\n"
     ]
    }
   ],
   "source": [
    "print(response['choices'][0]['message']['content'])"
   ]
  },
  {
   "cell_type": "code",
   "execution_count": 26,
   "metadata": {},
   "outputs": [],
   "source": [
    "solution_types = ['Web App','iOS','SaaS','Android','Mac','Chrome Extensions','API','iPad','Windows','Wearables','Hardware','Apple','Browser Extensions']\n",
    "domains= ['Marketing','User Experience','Messaging','Analytics','Education','Social Media','Growth Hacking','Fintech','Photography','Writing','Email','Task Management','Web3','Health & Fitness','Sales','E-Commerce','Social Network','Streaming Services','Hiring','Robots','Customer Communication','No-Code','Software Engineering','Travel','Newsletters','Email Marketing','Prototyping','Meetings','News','Music','Home','Investing','Search','Books','Calendar','Privacy','Payments','Global Nomad','Branding','SEO','Games','Notes','GitHub','Remote Work','Startup Books','Venture Capital','Sketch','Freelance','Art','Funny','Internet of Things','Maker Tools','Advertising','Notion','Icons','Spreadsheets','Augmented Reality','Crypto','Startup Lessons']"
   ]
  },
  {
   "cell_type": "code",
   "execution_count": 27,
   "metadata": {},
   "outputs": [],
   "source": [
    "import random\n",
    "\n",
    "solution = random.sample(solution_types, 1)\n",
    "domain = random.sample(domains, 2)"
   ]
  },
  {
   "cell_type": "code",
   "execution_count": 28,
   "metadata": {},
   "outputs": [
    {
     "data": {
      "text/plain": [
       "(['Browser Extensions'], ['Books', 'Hiring'])"
      ]
     },
     "execution_count": 28,
     "metadata": {},
     "output_type": "execute_result"
    }
   ],
   "source": [
    "solution, domain"
   ]
  },
  {
   "cell_type": "code",
   "execution_count": 29,
   "metadata": {},
   "outputs": [],
   "source": [
    "random_1k = index.query(\n",
    "    vector=[0]*1536,\n",
    "    top_k=1000,\n",
    "    include_metadata=True\n",
    ")"
   ]
  },
  {
   "cell_type": "code",
   "execution_count": 30,
   "metadata": {},
   "outputs": [],
   "source": [
    "shots = random.sample(random_1k['matches'], 5)"
   ]
  },
  {
   "cell_type": "code",
   "execution_count": 31,
   "metadata": {},
   "outputs": [],
   "source": [
    "examples = []\n",
    "for shot in shots:\n",
    "    topics = ','.join(shot['metadata']['topics'])\n",
    "    examples.append(f\"categories: {topics}\\nidea: {shot['metadata']['name']}, {shot['metadata']['tagline']}\")"
   ]
  },
  {
   "cell_type": "code",
   "execution_count": 32,
   "metadata": {},
   "outputs": [
    {
     "data": {
      "text/plain": [
       "['categories: Mac,Web App,Design Tools,Photography,Developer Tools,Tech\\nidea: Squash 2 for Mac, The easiest way to compress and optimize images for the web\\n\\n',\n",
       " 'categories: Design Tools,Productivity,Art,Marketing,Developer Tools\\nidea: Fresh Folk, An Illustration library of people and objects\\n\\n',\n",
       " 'categories: Web App,Tech\\nidea: Podcat, IMDB for podcasts\\n\\n',\n",
       " 'categories: iOS,Education,Tech,Books\\nidea: Spdr, Speed Reading\\n\\n',\n",
       " 'categories: Productivity,Meetings,Developer Tools\\nidea: Cosmos Video 3.0, A meetings tool to create visibility & a sense of belonging\\n\\n']"
      ]
     },
     "execution_count": 32,
     "metadata": {},
     "output_type": "execute_result"
    }
   ],
   "source": [
    "examples"
   ]
  },
  {
   "cell_type": "code",
   "execution_count": 33,
   "metadata": {},
   "outputs": [],
   "source": [
    "solution.extend(domain)"
   ]
  },
  {
   "cell_type": "code",
   "execution_count": 34,
   "metadata": {},
   "outputs": [
    {
     "data": {
      "text/plain": [
       "['Browser Extensions', 'Books', 'Hiring']"
      ]
     },
     "execution_count": 34,
     "metadata": {},
     "output_type": "execute_result"
    }
   ],
   "source": [
    "solution"
   ]
  },
  {
   "cell_type": "code",
   "execution_count": 35,
   "metadata": {},
   "outputs": [],
   "source": [
    "import openai\n",
    "\n",
    "exs = '\\n\\n'.join(examples)\n",
    "query = ','.join(solution)\n",
    "model = 'gpt-3.5-turbo'\n",
    "response = openai.ChatCompletion.create(\n",
    "  model=model,\n",
    "  messages=[{\"role\": \"system\", \"content\": \"You are a helpful assistant that suggests new product ideas given categories\"}, \n",
    "            {\"role\": \"user\", \"content\": f\"here are few of the most popular categories and taglines on product hunt:\\n{exs}\"},\n",
    "            {\"role\": \"user\", \"content\": f\"generate 1 new product idea in 20 words for:\\n categories: '{query}'\"}],\n",
    "  temperature=0.6\n",
    ")"
   ]
  },
  {
   "cell_type": "code",
   "execution_count": 36,
   "metadata": {},
   "outputs": [
    {
     "data": {
      "text/plain": [
       "<OpenAIObject chat.completion id=chatcmpl-7VbMnM94nPNLpJbkipEpyp3GKSbI8 at 0x10fc2f2c0> JSON: {\n",
       "  \"id\": \"chatcmpl-7VbMnM94nPNLpJbkipEpyp3GKSbI8\",\n",
       "  \"object\": \"chat.completion\",\n",
       "  \"created\": 1687766161,\n",
       "  \"model\": \"gpt-3.5-turbo-0301\",\n",
       "  \"choices\": [\n",
       "    {\n",
       "      \"index\": 0,\n",
       "      \"message\": {\n",
       "        \"role\": \"assistant\",\n",
       "        \"content\": \"Idea: HireRead, a browser extension that suggests relevant books to help hiring managers improve their recruitment and interviewing skills.\"\n",
       "      },\n",
       "      \"finish_reason\": \"stop\"\n",
       "    }\n",
       "  ],\n",
       "  \"usage\": {\n",
       "    \"prompt_tokens\": 202,\n",
       "    \"completion_tokens\": 24,\n",
       "    \"total_tokens\": 226\n",
       "  }\n",
       "}"
      ]
     },
     "execution_count": 36,
     "metadata": {},
     "output_type": "execute_result"
    }
   ],
   "source": [
    "response"
   ]
  },
  {
   "cell_type": "code",
   "execution_count": null,
   "metadata": {},
   "outputs": [],
   "source": []
  }
 ],
 "metadata": {
  "kernelspec": {
   "display_name": "basic-ds",
   "language": "python",
   "name": "basic-ds"
  },
  "language_info": {
   "codemirror_mode": {
    "name": "ipython",
    "version": 3
   },
   "file_extension": ".py",
   "mimetype": "text/x-python",
   "name": "python",
   "nbconvert_exporter": "python",
   "pygments_lexer": "ipython3",
   "version": "3.9.4"
  },
  "orig_nbformat": 4
 },
 "nbformat": 4,
 "nbformat_minor": 2
}
